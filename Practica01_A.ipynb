{
  "nbformat": 4,
  "nbformat_minor": 0,
  "metadata": {
    "colab": {
      "name": "Practica01-A.ipynb",
      "provenance": [],
      "include_colab_link": true
    },
    "kernelspec": {
      "name": "python3",
      "display_name": "Python 3"
    },
    "language_info": {
      "name": "python"
    }
  },
  "cells": [
    {
      "cell_type": "markdown",
      "metadata": {
        "id": "view-in-github",
        "colab_type": "text"
      },
      "source": [
        "<a href=\"https://colab.research.google.com/github/seleneal1996/EDA/blob/main/Practica01_A.ipynb\" target=\"_parent\"><img src=\"https://colab.research.google.com/assets/colab-badge.svg\" alt=\"Open In Colab\"/></a>"
      ]
    },
    {
      "cell_type": "code",
      "metadata": {
        "id": "AI2gZhWfnvPT"
      },
      "source": [
        "import matplotlib\n",
        "import numpy as np\n",
        "import matplotlib.pyplot as plt"
      ],
      "execution_count": null,
      "outputs": []
    },
    {
      "cell_type": "code",
      "metadata": {
        "id": "ffXMnm8HpaW_"
      },
      "source": [
        "from pydrive.auth import GoogleAuth\n",
        "from pydrive.drive import GoogleDrive\n",
        "from google.colab import auth\n",
        "from oauth2client.client import GoogleCredentials\n",
        "auth.authenticate_user()\n",
        "gauth = GoogleAuth()\n",
        "gauth.credentials = GoogleCredentials.get_application_default()\n",
        "drive = GoogleDrive(gauth)"
      ],
      "execution_count": null,
      "outputs": []
    },
    {
      "cell_type": "code",
      "metadata": {
        "id": "H5KbFVdEqD6G"
      },
      "source": [
        "import requests\n",
        "from io import StringIO"
      ],
      "execution_count": null,
      "outputs": []
    },
    {
      "cell_type": "code",
      "metadata": {
        "id": "1xnHU5fYphb3"
      },
      "source": [
        "#https://drive.google.com/file/d/1HFMGVVJ76-wOf0mLfounH5ztnkLrk4I6/view?usp=sharing\n",
        "file_script=drive.CreateFile({'id':'1HFMGVVJ76-wOf0mLfounH5ztnkLrk4I6'})"
      ],
      "execution_count": null,
      "outputs": []
    },
    {
      "cell_type": "code",
      "metadata": {
        "id": "ZR9rRSX5qXa9"
      },
      "source": [
        "file_script.GetContentFile('tryItABunch.py')"
      ],
      "execution_count": null,
      "outputs": []
    },
    {
      "cell_type": "code",
      "metadata": {
        "id": "va-mVA0Rq28H"
      },
      "source": [
        ""
      ],
      "execution_count": null,
      "outputs": []
    },
    {
      "cell_type": "code",
      "metadata": {
        "id": "opGn2iG-rYOi"
      },
      "source": [
        ""
      ],
      "execution_count": null,
      "outputs": []
    },
    {
      "cell_type": "markdown",
      "metadata": {
        "id": "aUZdhC77rT9X"
      },
      "source": [
        "**Insertion Sort (copia vector)**"
      ]
    },
    {
      "cell_type": "code",
      "metadata": {
        "id": "tt546UyLrY7M"
      },
      "source": [
        "def copia_insertionSort(A):\n",
        "  B=[None for i in range(len(A))]\n",
        "  for x in A:\n",
        "    for i in range(len(B)):\n",
        "      if B[i]==None or B[i]>x:\n",
        "        j=len(B)-1\n",
        "        while j>i:\n",
        "          B[j]=B[j-1]\n",
        "          j-=1\n",
        "        B[i]=x\n",
        "        break\n",
        "  return B\n"
      ],
      "execution_count": null,
      "outputs": []
    },
    {
      "cell_type": "code",
      "metadata": {
        "id": "BEH7KCG9sb8a"
      },
      "source": [
        "A=[4,1,6,2,5]\n",
        "B=copia_insertionSort(A)"
      ],
      "execution_count": null,
      "outputs": []
    },
    {
      "cell_type": "code",
      "metadata": {
        "colab": {
          "base_uri": "https://localhost:8080/"
        },
        "id": "VvgOqbsjsnZM",
        "outputId": "4ab1efa5-e094-4ee0-e20c-c2a23b29d56a"
      },
      "source": [
        "B"
      ],
      "execution_count": null,
      "outputs": [
        {
          "output_type": "execute_result",
          "data": {
            "text/plain": [
              "[1, 2, 4, 5, 6]"
            ]
          },
          "metadata": {},
          "execution_count": 10
        }
      ]
    },
    {
      "cell_type": "markdown",
      "metadata": {
        "id": "sZYXZVgasyes"
      },
      "source": [
        "**Insertion Sort**"
      ]
    },
    {
      "cell_type": "code",
      "metadata": {
        "id": "VHLNsDFUswEi"
      },
      "source": [
        "def InsertionSort(A):\n",
        "  for i in range(1, len(A)):\n",
        "    cur_value = A[i]\n",
        "    j = i - 1\n",
        "    while j >= 0 and A[j] > cur_value:\n",
        "      A[j+1] = A[j]\n",
        "      j -= 1\n",
        "    A[j+1] = cur_value"
      ],
      "execution_count": null,
      "outputs": []
    },
    {
      "cell_type": "code",
      "metadata": {
        "colab": {
          "base_uri": "https://localhost:8080/"
        },
        "id": "pCA6dDV9tR03",
        "outputId": "a64186ca-9e15-470c-9d5b-2c7c326436f9"
      },
      "source": [
        "InsertionSort(A)\n",
        "print(A)"
      ],
      "execution_count": null,
      "outputs": [
        {
          "output_type": "stream",
          "name": "stdout",
          "text": [
            "[1, 2, 4, 5, 6]\n"
          ]
        }
      ]
    },
    {
      "cell_type": "code",
      "metadata": {
        "id": "ObbIvHPItlyz"
      },
      "source": [
        "from tryItABunch import tryItABunch"
      ],
      "execution_count": null,
      "outputs": []
    },
    {
      "cell_type": "code",
      "metadata": {
        "id": "2P6IQ1ojtspp"
      },
      "source": [
        "n_values_copy,t_values_copy=tryItABunch(copia_insertionSort,10,1500,10,15,30)"
      ],
      "execution_count": null,
      "outputs": []
    },
    {
      "cell_type": "code",
      "metadata": {
        "id": "6I_65o5aueAZ"
      },
      "source": [
        "n_values,t_values=tryItABunch(InsertionSort,10,1500,10,15,30)"
      ],
      "execution_count": null,
      "outputs": []
    },
    {
      "cell_type": "code",
      "metadata": {
        "colab": {
          "base_uri": "https://localhost:8080/",
          "height": 297
        },
        "id": "gXQh5cQ_uqhH",
        "outputId": "c47feec5-841f-4d8c-f164-bd1f1e601b32"
      },
      "source": [
        "plt.plot(n_values_copy,t_values_copy,color='black',label='insertion+copia')\n",
        "plt.plot(n_values,t_values,color='red',label='insertion')\n",
        "plt.xlabel('n')\n",
        "plt.ylabel('Time')\n",
        "plt.legend()"
      ],
      "execution_count": null,
      "outputs": [
        {
          "output_type": "execute_result",
          "data": {
            "text/plain": [
              "<matplotlib.legend.Legend at 0x7f365901db50>"
            ]
          },
          "metadata": {},
          "execution_count": 19
        },
        {
          "output_type": "display_data",
          "data": {
            "image/png": "[encoded data removed]",
            "text/plain": [
              "<Figure size 432x288 with 1 Axes>"
            ]
          },
          "metadata": {
            "needs_background": "light"
          }
        }
      ]
    }
  ]
}